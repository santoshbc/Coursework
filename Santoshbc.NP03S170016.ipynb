{
 "cells": [
  {
   "cell_type": "code",
   "execution_count": 2,
   "metadata": {},
   "outputs": [
    {
     "ename": "IndentationError",
     "evalue": "expected an indented block (<ipython-input-2-2a5a6915c73f>, line 2)",
     "output_type": "error",
     "traceback": [
      "\u001b[1;36m  File \u001b[1;32m\"<ipython-input-2-2a5a6915c73f>\"\u001b[1;36m, line \u001b[1;32m2\u001b[0m\n\u001b[1;33m    string = ''\u001b[0m\n\u001b[1;37m         ^\u001b[0m\n\u001b[1;31mIndentationError\u001b[0m\u001b[1;31m:\u001b[0m expected an indented block\n"
     ]
    }
   ],
   "source": [
    "class CharacterEvenDisplay(object):\n",
    "string = ''\n",
    "\n",
    "def takeinput(self):\n",
    "    self.string = input('Please Enter a string: ')\n",
    "\n",
    "    def displayOutput(self):\n",
    "        output = ''\n",
    "        for i in range(len(self.string)):\n",
    "            if(i!=0 and i%2 == 0):\n",
    "                print(self.string[i], end=\"\")"
   ]
  },
  {
   "cell_type": "code",
   "execution_count": 7,
   "metadata": {},
   "outputs": [
    {
     "name": "stdout",
     "output_type": "stream",
     "text": [
      "[(10, 20, 100), (40, 50, 100), (70, 80, 100)]\n"
     ]
    }
   ],
   "source": [
    "list = [(10,20,40),(40,50,60),(70,80,90)]\n",
    "result = ([i[:-1]+(100,) for i in list])\n",
    "print (result)\n"
   ]
  },
  {
   "cell_type": "code",
   "execution_count": 4,
   "metadata": {},
   "outputs": [
    {
     "name": "stdout",
     "output_type": "stream",
     "text": [
      "2\n"
     ]
    }
   ],
   "source": [
    "input = 'ABCDCDC'\n",
    "sub = 'CDC'\n",
    "count = 0\n",
    "a = len(input)\n",
    "for i in range(0, len(input)):\n",
    "    if input[i:i+len(sub)]==sub:\n",
    "        count += 1\n",
    "print(count)"
   ]
  },
  {
   "cell_type": "code",
   "execution_count": 5,
   "metadata": {},
   "outputs": [
    {
     "name": "stdout",
     "output_type": "stream",
     "text": [
      "tHIS IS Me 123\n"
     ]
    }
   ],
   "source": [
    "input = 'This is mE 123'\n",
    "output =''\n",
    "for i in input:\n",
    "    if(ord(i)>=65 and ord(i)<=90):\n",
    "        output += chr(ord(i)+32)\n",
    "    elif(ord(i)>=97 and ord(i)<=122):\n",
    "          output +=chr(ord(i)-32)\n",
    "    else:\n",
    "          output +=chr(ord(i))\n",
    "print(output)\n"
   ]
  },
  {
   "cell_type": "code",
   "execution_count": null,
   "metadata": {},
   "outputs": [],
   "source": []
  }
 ],
 "metadata": {
  "kernelspec": {
   "display_name": "Python 3",
   "language": "python",
   "name": "python3"
  },
  "language_info": {
   "codemirror_mode": {
    "name": "ipython",
    "version": 3
   },
   "file_extension": ".py",
   "mimetype": "text/x-python",
   "name": "python",
   "nbconvert_exporter": "python",
   "pygments_lexer": "ipython3",
   "version": "3.6.5"
  }
 },
 "nbformat": 4,
 "nbformat_minor": 2
}
